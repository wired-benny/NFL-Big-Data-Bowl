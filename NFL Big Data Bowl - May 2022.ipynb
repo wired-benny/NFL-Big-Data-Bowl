{
 "cells": [
  {
   "attachments": {},
   "cell_type": "markdown",
   "id": "02fea488",
   "metadata": {},
   "source": [
    "<img src = \"NFL.png\" width=\"100\" height=\"140\">\n",
    "\n",
    ">The NFL is one of the major North American professional sports leagues and the highest professional level of American football in the world. Each NFL season begins with a three-week preseason in August, followed by the 18-week regular season which runs from early September to early January, with each team playing 17 games and having one bye week.\n",
    "\n",
    ">Following the conclusion of the regular season, seven teams from each conference (four division winners and three wild card teams) advance to the playoffs, a single-elimination tournament that culminates in the Super Bowl, which is contested in February and is played between the AFC and NFC conference champions."
   ]
  },
  {
   "cell_type": "code",
   "execution_count": 1,
   "id": "f951d181",
   "metadata": {},
   "outputs": [],
   "source": [
    "import numpy as np\n",
    "import matplotlib.pyplot as plt\n",
    "import pandas as pd"
   ]
  },
  {
   "cell_type": "code",
   "execution_count": 2,
   "id": "0547e9c2",
   "metadata": {},
   "outputs": [],
   "source": [
    "from sklearn.ensemble import RandomForestClassifier\n",
    "from sklearn.metrics import confusion_matrix\n",
    "from sklearn.model_selection import train_test_split\n",
    "from sklearn.tree import DecisionTreeClassifier, plot_tree\n",
    "from sklearn.linear_model import LogisticRegression\n",
    "from sklearn.metrics import accuracy_score, roc_auc_score\n",
    "from sklearn.preprocessing import StandardScaler"
   ]
  },
  {
   "cell_type": "code",
   "execution_count": 5,
   "id": "f1867a63",
   "metadata": {},
   "outputs": [],
   "source": [
    "dt = pd.read_csv('train.csv', low_memory = False)\n",
    "dt = dt.replace(np.inf,np.nan)\n",
    "dt = dt.dropna()\n",
    "dt = dt.sample(n=200000)"
   ]
  },
  {
   "cell_type": "code",
   "execution_count": 7,
   "id": "a2ddfdbf",
   "metadata": {},
   "outputs": [],
   "source": [
    "dt = dt.drop(columns=['GameId','PlayId','NflId','NflIdRusher','VisitorTeamAbbr'])"
   ]
  },
  {
   "cell_type": "code",
   "execution_count": 8,
   "id": "bbffa024",
   "metadata": {},
   "outputs": [],
   "source": [
    "dt['PlayerBirthYear'] = dt['PlayerBirthDate'].apply(lambda x: x.split('/')[2]).astype('int')\n",
    "dt['PlayerHeightDecimal'] = dt['PlayerHeight'].apply(lambda x: int(x.split('-')[0]) + int(x.split('-')[1])/12)\n",
    "dt['GameClockMinutes'] = dt['GameClock'].apply(lambda x: int(x.split(':')[1]) + int(x.split(':')[2])/60)"
   ]
  },
  {
   "cell_type": "code",
   "execution_count": 9,
   "id": "e8f1ae62",
   "metadata": {},
   "outputs": [],
   "source": [
    "from datetime import datetime\n",
    "dt['TimeHandoff'] = dt['TimeHandoff'].apply(lambda x: datetime.strptime(x, \"%Y-%m-%dT%H:%M:%S.%fZ\"))\n",
    "dt['TimeSnap'] = dt['TimeSnap'].apply(lambda x: datetime.strptime(x, \"%Y-%m-%dT%H:%M:%S.%fZ\"))\n",
    "dt['PlayDuration'] = dt.apply(lambda row: (row['TimeHandoff'] - row['TimeSnap']).total_seconds(), axis=1)"
   ]
  },
  {
   "cell_type": "code",
   "execution_count": 10,
   "id": "521bff7e",
   "metadata": {},
   "outputs": [],
   "source": [
    "dt = dt.drop(columns=['PlayerBirthDate'])\n",
    "dt = dt.drop(columns=['PlayerHeight'])\n",
    "dt = dt.drop(columns=['GameClock'])\n",
    "dt = dt.drop(columns=['TimeSnap'])\n",
    "dt = dt.drop(columns=['TimeHandoff'])"
   ]
  },
  {
   "cell_type": "code",
   "execution_count": 11,
   "id": "ce1dc3ce",
   "metadata": {},
   "outputs": [],
   "source": [
    "dt['Deliver'] = (dt['Yards'] >= 10).astype('int')\n",
    "dt = dt.drop(columns=['Yards'])"
   ]
  },
  {
   "cell_type": "code",
   "execution_count": 12,
   "id": "a0ce485f",
   "metadata": {},
   "outputs": [],
   "source": [
    "dt_with_dummies = pd.get_dummies(dt)"
   ]
  },
  {
   "cell_type": "code",
   "execution_count": 13,
   "id": "9b756318",
   "metadata": {},
   "outputs": [],
   "source": [
    "# Splitting the dataset into dependable variable and independent vector\n",
    "target_column = 'Deliver'\n",
    "# This will take the list of all the columns you have and will remove the\n",
    "# target_column one.\n",
    "feature_columns = list(dt_with_dummies.columns)\n",
    "feature_columns.remove(target_column)"
   ]
  },
  {
   "cell_type": "code",
   "execution_count": 14,
   "id": "19fb4609",
   "metadata": {},
   "outputs": [],
   "source": [
    "X = dt_with_dummies[feature_columns]\n",
    "Y = dt_with_dummies[target_column]"
   ]
  },
  {
   "cell_type": "code",
   "execution_count": 15,
   "id": "34f8066e",
   "metadata": {},
   "outputs": [],
   "source": [
    "# Splitting the dataset into the Training set and Test set\n",
    "X_train, X_test, Y_train, Y_test = train_test_split(X, Y, test_size = 0.2, random_state = 1)"
   ]
  },
  {
   "cell_type": "code",
   "execution_count": 16,
   "id": "a73bdca2",
   "metadata": {},
   "outputs": [],
   "source": [
    "# Feature Scaling\n",
    "sc_X = StandardScaler()\n",
    "X_train = sc_X.fit_transform(X_train)\n",
    "X_test = sc_X.transform(X_test)"
   ]
  },
  {
   "cell_type": "code",
   "execution_count": 17,
   "id": "3cfc2e75",
   "metadata": {},
   "outputs": [
    {
     "data": {
      "text/plain": [
       "RandomForestClassifier(criterion='entropy', n_estimators=10, n_jobs=-1,\n",
       "                       random_state=0)"
      ]
     },
     "execution_count": 17,
     "metadata": {},
     "output_type": "execute_result"
    }
   ],
   "source": [
    "#RandomForest\n",
    "classifier = RandomForestClassifier(n_estimators = 10, criterion = 'entropy', random_state = 0,n_jobs = -1)\n",
    "classifier.fit(X_train, Y_train)"
   ]
  },
  {
   "cell_type": "code",
   "execution_count": 18,
   "id": "fc24f403",
   "metadata": {},
   "outputs": [
    {
     "name": "stdout",
     "output_type": "stream",
     "text": [
      "0.936025\n",
      "0.7093565297531946\n"
     ]
    }
   ],
   "source": [
    "Y_pred = classifier.predict(X_test)# Making the Confusion Matrix\n",
    "cmrf = confusion_matrix(Y_test, Y_pred)\n",
    "accuracyrf = accuracy_score(Y_pred, Y_test)\n",
    "print(accuracy_score(Y_test,Y_pred))\n",
    "print(roc_auc_score(Y_test,Y_pred))"
   ]
  },
  {
   "cell_type": "code",
   "execution_count": 19,
   "id": "c59ae2c9",
   "metadata": {},
   "outputs": [
    {
     "name": "stdout",
     "output_type": "stream",
     "text": [
      "The accuracy is 0.997075\n",
      "0.9908039844362031\n"
     ]
    }
   ],
   "source": [
    "# Create an empty, unlearned tree\n",
    "decision_tree = DecisionTreeClassifier(criterion=\"entropy\")\n",
    "# Fit/train the tree on the training data\n",
    "decision_tree.fit(X_train, Y_train)\n",
    "# Get a prediction from the tree on the test data\n",
    "Y_pred = decision_tree.predict(X_test)\n",
    "# Get the accuracy of this prediction\n",
    "accuracydt = accuracy_score(Y_pred, Y_test)\n",
    "# Print the accuracy\n",
    "print(\"The accuracy is {}\".format(accuracydt))\n",
    "print(roc_auc_score(Y_test,Y_pred))\n",
    "cmdt = confusion_matrix(Y_test, Y_pred)"
   ]
  },
  {
   "cell_type": "markdown",
   "id": "f55b37e8",
   "metadata": {},
   "source": [
    "###### Dataset Source: <a href=\"https://www.kaggle.com/competitions/nfl-big-data-bowl-2020/overview\"> Kaggle: NFL Big Data Bowl </a> \n",
    "\n",
    "## Code Requirement\n",
    "<ul>\n",
    "    <li>CPU <= 4 hours run-time</li>\n",
    "    <li>GPU disabled</li>\n",
    "    <li>No internet access enabled</li>\n",
    "    <li>External data is not allowed</li>\n",
    "</ul>"
   ]
  },
  {
   "cell_type": "code",
   "execution_count": null,
   "id": "e505dfca",
   "metadata": {},
   "outputs": [],
   "source": []
  }
 ],
 "metadata": {
  "kernelspec": {
   "display_name": "Python 3 (ipykernel)",
   "language": "python",
   "name": "python3"
  },
  "language_info": {
   "codemirror_mode": {
    "name": "ipython",
    "version": 3
   },
   "file_extension": ".py",
   "mimetype": "text/x-python",
   "name": "python",
   "nbconvert_exporter": "python",
   "pygments_lexer": "ipython3",
   "version": "3.9.12"
  }
 },
 "nbformat": 4,
 "nbformat_minor": 5
}
